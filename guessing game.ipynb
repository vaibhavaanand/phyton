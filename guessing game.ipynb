{
 "cells": [
  {
   "cell_type": "code",
   "execution_count": 10,
   "metadata": {},
   "outputs": [
    {
     "name": "stdout",
     "output_type": "stream",
     "text": [
      "What is your name? Vaibhava\n",
      "Good Luck !\n",
      "Guess the number\n",
      "_\n",
      "guess a number:5\n",
      "Wrong\n",
      "You have 2 more guesses\n",
      "_\n",
      "guess a number:1\n",
      "Wrong\n",
      "You have 1 more guesses\n",
      "_\n",
      "guess a number:9\n",
      "Wrong\n",
      "You have 0 more guesses\n",
      "You Loose\n"
     ]
    }
   ],
   "source": [
    "#GUESSING GAME\n",
    "\n",
    "import random \n",
    "\n",
    "name = input(\"What is your name? \") \n",
    "\n",
    "print(\"Good Luck !\") \n",
    "number = '3'\n",
    "  \n",
    "print(\"Guess the number\") \n",
    "  \n",
    "guesses = '' \n",
    "  \n",
    "\n",
    "turns = 3\n",
    "  \n",
    "while turns > 0: \n",
    "      \n",
    "    # counts the number of times a user fails \n",
    "    failed = 0\n",
    "       \n",
    "    for int in number:  \n",
    "          \n",
    "        if int in guesses:  \n",
    "            print(int) \n",
    "              \n",
    "        else:  \n",
    "            print(\"_\") \n",
    "              \n",
    "            # for every failure 1 will be \n",
    "            # incremented in failure \n",
    "            failed += 1\n",
    "              \n",
    "  \n",
    "    if failed == 0: \n",
    "        # user will win the game if failure is 0 \n",
    "        # and 'You Win' will be given as output \n",
    "        print(\"You Win\")  \n",
    "          \n",
    "        # this print the correct word \n",
    "        print(\"The number is: \", number)  \n",
    "        break\n",
    "      \n",
    "    # if user has input the wrong number then \n",
    "    # it will ask user to enter another number \n",
    "    guess = input(\"guess a number:\") \n",
    "      \n",
    "    # every input character will be stored in guesses  \n",
    "    guesses += guess  \n",
    "      \n",
    "    # check input with the number\n",
    "    if guess not in number: \n",
    "          \n",
    "        turns -= 1\n",
    "          \n",
    "        # if the number doesn’t match the word \n",
    "        # then “Wrong” will be given as output  \n",
    "        print(\"Wrong\") \n",
    "          \n",
    "        # this will print the number of \n",
    "        # turns left for the user \n",
    "        print(\"You have\", + turns, 'more guesses') \n",
    "          \n",
    "          \n",
    "        if turns == 0: \n",
    "            print(\"You Loose\")"
   ]
  },
  {
   "cell_type": "code",
   "execution_count": null,
   "metadata": {},
   "outputs": [],
   "source": []
  }
 ],
 "metadata": {
  "kernelspec": {
   "display_name": "Python 3",
   "language": "python",
   "name": "python3"
  },
  "language_info": {
   "codemirror_mode": {
    "name": "ipython",
    "version": 3
   },
   "file_extension": ".py",
   "mimetype": "text/x-python",
   "name": "python",
   "nbconvert_exporter": "python",
   "pygments_lexer": "ipython3",
   "version": "3.7.3"
  }
 },
 "nbformat": 4,
 "nbformat_minor": 2
}
