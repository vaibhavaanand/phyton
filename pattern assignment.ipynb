{
 "cells": [
  {
   "cell_type": "code",
   "execution_count": 1,
   "metadata": {},
   "outputs": [
    {
     "name": "stdout",
     "output_type": "stream",
     "text": [
      "*  *  *  *  \n",
      "*  *  *  *  \n",
      "*  *  *  *  \n",
      "*  *  *  *  \n"
     ]
    }
   ],
   "source": [
    "1#square pattern\n",
    "\n",
    "for i in range(4):\n",
    "    for i in range(4):\n",
    "        print('*', end = '  ')\n",
    "    print()"
   ]
  },
  {
   "cell_type": "code",
   "execution_count": 2,
   "metadata": {},
   "outputs": [
    {
     "name": "stdout",
     "output_type": "stream",
     "text": [
      "********************\n",
      "*                  *\n",
      "*                  *\n",
      "*                  *\n",
      "*                  *\n",
      "********************\n"
     ]
    }
   ],
   "source": [
    "2#hollow rectangle \n",
    "def print_rectangle(n, m) : \n",
    "      \n",
    "    for i in range(1, n+1) : \n",
    "        for j in range(1, m+1) : \n",
    "            if (i == 1 or i == n or\n",
    "                j == 1 or j == m) : \n",
    "                print(\"*\", end=\"\")             \n",
    "            else : \n",
    "                print(\" \", end=\"\")             \n",
    "          \n",
    "        print() \n",
    "  \n",
    "  \n",
    "# Driver program for above function \n",
    "rows = 6\n",
    "columns = 20\n",
    "print_rectangle(rows, columns) "
   ]
  },
  {
   "cell_type": "code",
   "execution_count": 3,
   "metadata": {},
   "outputs": [
    {
     "name": "stdout",
     "output_type": "stream",
     "text": [
      "********\n",
      "*      *\n",
      "*      *\n",
      "*      *\n",
      "*      *\n",
      "*      *\n",
      "*      *\n",
      "********\n"
     ]
    }
   ],
   "source": [
    "3#hollow square \n",
    "def print_square(n) : \n",
    "      \n",
    "    for i in range(1, n+1) : \n",
    "        for j in range(1, n+1) : \n",
    "            if (i == 1 or i == n or \n",
    "                j == 1 or j == n) :             \n",
    "                print(\"*\", end = \"\")             \n",
    "            else : \n",
    "                print(\" \", end = \"\")             \n",
    "          \n",
    "        print() \n",
    "          \n",
    "          \n",
    "   \n",
    "# Driver code for above function \n",
    "rows = 8\n",
    "print_square(rows) "
   ]
  },
  {
   "cell_type": "code",
   "execution_count": 4,
   "metadata": {},
   "outputs": [
    {
     "name": "stdout",
     "output_type": "stream",
     "text": [
      "********\n",
      "**    **\n",
      "* *  * *\n",
      "*  **  *\n",
      "*  **  *\n",
      "* *  * *\n",
      "**    **\n",
      "********\n"
     ]
    }
   ],
   "source": [
    "4#hollow square with  \n",
    "# primary and secondary diagonal \n",
    "def print_squaredi(n) : \n",
    "    for i in range(1, n+1) : \n",
    "        for j in range(1, n+1) : \n",
    "            if (i==1 or i==n or j==1 or j==n  \n",
    "                or i==j or j==(n - i + 1)) : \n",
    "                print(\"*\", end = \"\")             \n",
    "            else : \n",
    "                print(\" \", end = \"\")             \n",
    "          \n",
    "        print() \n",
    "          \n",
    "          \n",
    "# Driver code for above function \n",
    "rows = 8\n",
    "print_squaredi(rows) "
   ]
  },
  {
   "cell_type": "code",
   "execution_count": 5,
   "metadata": {},
   "outputs": [
    {
     "name": "stdout",
     "output_type": "stream",
     "text": [
      "* \r\n",
      "* * \r\n",
      "* * * \r\n",
      "* * * * \r\n",
      "* * * * * \r\n"
     ]
    }
   ],
   "source": [
    "5#Right angle triangle\n",
    "def pypart(n): \n",
    "      \n",
    "    # outer loop to handle number of rows \n",
    "    # n in this case \n",
    "    for i in range(0, n): \n",
    "      \n",
    "        # inner loop to handle number of columns \n",
    "        # values changing acc. to outer loop \n",
    "        for j in range(0, i+1): \n",
    "          \n",
    "            # printing stars \n",
    "            print(\"* \",end=\"\") \n",
    "       \n",
    "        # ending line after each row \n",
    "        print(\"\\r\") \n",
    "  \n",
    "# Driver Code \n",
    "n = 5\n",
    "pypart(n) "
   ]
  },
  {
   "cell_type": "code",
   "execution_count": 6,
   "metadata": {},
   "outputs": [
    {
     "name": "stdout",
     "output_type": "stream",
     "text": [
      "        * \r\n",
      "      * * \r\n",
      "    * * * \r\n",
      "  * * * * \r\n",
      "* * * * * \r\n"
     ]
    }
   ],
   "source": [
    "6#after 180 rotation\n",
    "def pypart2(n): \n",
    "      \n",
    "    # number of spaces \n",
    "    k = 2*n - 2\n",
    "  \n",
    "    # outer loop to handle number of rows \n",
    "    for i in range(0, n): \n",
    "      \n",
    "        # inner loop to handle number spaces \n",
    "        # values changing acc. to requirement \n",
    "        for j in range(0, k): \n",
    "            print(end=\" \") \n",
    "      \n",
    "        # decrementing k after each loop \n",
    "        k = k - 2\n",
    "      \n",
    "        # inner loop to handle number of columns \n",
    "        # values changing acc. to outer loop \n",
    "        for j in range(0, i+1): \n",
    "          \n",
    "            # printing stars \n",
    "            print(\"* \", end=\"\") \n",
    "      \n",
    "        # ending line after each row \n",
    "        print(\"\\r\") \n",
    "  \n",
    "# Driver Code \n",
    "n = 5\n",
    "pypart2(n) "
   ]
  },
  {
   "cell_type": "code",
   "execution_count": 7,
   "metadata": {},
   "outputs": [
    {
     "name": "stdout",
     "output_type": "stream",
     "text": [
      "        * \r\n",
      "       * * \r\n",
      "      * * * \r\n",
      "     * * * * \r\n",
      "    * * * * * \r\n"
     ]
    }
   ],
   "source": [
    "7#printing triangle\n",
    "def triangle(n): \n",
    "      \n",
    "    # number of spaces \n",
    "    k = 2*n - 2\n",
    "  \n",
    "    # outer loop to handle number of rows \n",
    "    for i in range(0, n): \n",
    "      \n",
    "        # inner loop to handle number spaces \n",
    "        # values changing acc. to requirement \n",
    "        for j in range(0, k): \n",
    "            print(end=\" \") \n",
    "      \n",
    "        # decrementing k after each loop \n",
    "        k = k - 1\n",
    "      \n",
    "        # inner loop to handle number of columns \n",
    "        # values changing acc. to outer loop \n",
    "        for j in range(0, i+1): \n",
    "          \n",
    "            # printing stars \n",
    "            print(\"* \", end=\"\") \n",
    "      \n",
    "        # ending line after each row \n",
    "        print(\"\\r\") \n",
    "  \n",
    "# Driver Code \n",
    "n = 5\n",
    "triangle(n) "
   ]
  },
  {
   "cell_type": "code",
   "execution_count": 10,
   "metadata": {},
   "outputs": [
    {
     "name": "stdout",
     "output_type": "stream",
     "text": [
      "     *\n",
      "    * *\n",
      "   *   *\n",
      "  *     *\n",
      " *       *\n",
      "*         *\n",
      "***********"
     ]
    }
   ],
   "source": [
    "8#print a hollow pyramid pattern \n",
    "  \n",
    "def printPattern( n) : \n",
    "    k = 0\n",
    "    for i in range(1,n+1) : #row 6 \n",
    "      \n",
    "        # Print spaces \n",
    "        for j in range(i,n) : \n",
    "            print(' ', end='') \n",
    "          \n",
    "        # Print # \n",
    "        while (k != (2 * i - 1)) : \n",
    "            if (k == 0 or k == 2 * i - 2) : \n",
    "                print('*', end='') \n",
    "            else : \n",
    "                print(' ', end ='') \n",
    "            k = k + 1\n",
    "        k = 0; \n",
    "        print (\"\") # print next row \n",
    "          \n",
    "    # print last row \n",
    "    for i in range(0, 2 * n -1) : \n",
    "        print ('*', end = '') \n",
    "  \n",
    "# Driver code  \n",
    "n = 6\n",
    "printPattern(n) "
   ]
  },
  {
   "cell_type": "code",
   "execution_count": 11,
   "metadata": {},
   "outputs": [
    {
     "name": "stdout",
     "output_type": "stream",
     "text": [
      "***********\n",
      " *       *\n",
      "  *     *\n",
      "   *   *\n",
      "    * *\n",
      "     *\n"
     ]
    }
   ],
   "source": [
    "#print a hollow inverted pyramid pattern \n",
    "  \n",
    "def printPattern(n) : \n",
    "      \n",
    "    for i in range(1,n+1) : \n",
    "          \n",
    "        # Print spaces \n",
    "        for j in range(1,i) : \n",
    "            print (\" \",end=\"\") \n",
    "              \n",
    "        # Print hollow inverted pyramid \n",
    "        for j in range(1,(n * 2 - (2 * i - 1))  \n",
    "                                       +1) : \n",
    "            if (i == 1 or j == 1 or \n",
    "               j == (n * 2 - (2 * i - 1))) : \n",
    "                print (\"*\", end=\"\")  \n",
    "            else : \n",
    "                print(\" \", end=\"\")  \n",
    "                  \n",
    "        # next line \n",
    "        print (\"\"), \n",
    "  \n",
    "# Driver code \n",
    "n = 6\n",
    "printPattern(n) "
   ]
  },
  {
   "cell_type": "code",
   "execution_count": 12,
   "metadata": {},
   "outputs": [
    {
     "name": "stdout",
     "output_type": "stream",
     "text": [
      "     *\n",
      "    * *\n",
      "   *   *\n",
      "  *     *\n",
      " *       *\n",
      "*         *\n",
      " *       *\n",
      "  *     *\n",
      "   *   *\n",
      "    * *\n",
      "     *\n"
     ]
    }
   ],
   "source": [
    "10#print a hollow diamond pattern \n",
    "  \n",
    "def printPattern(n) : \n",
    "    k = 0; \n",
    "  \n",
    "    # Print upper triangle \n",
    "    for i in range(1,n+1) : \n",
    "  \n",
    "        # Print spaces \n",
    "        for j in range(1,n-i+1) : \n",
    "            print(\" \",end=\"\") \n",
    "              \n",
    "        # Print # \n",
    "        while (k != (2 * i - 1)) : \n",
    "            if (k == 0 or k == 2 * i - 2) : \n",
    "                print(\"*\",end=\"\") \n",
    "            else : \n",
    "                print(\" \",end=\"\") \n",
    "            k = k + 1\n",
    "              \n",
    "        k = 0\n",
    "  \n",
    "        # move to next row \n",
    "        print(\"\"), \n",
    "      \n",
    "    n = n - 1\n",
    "  \n",
    "    # Print lower triangle \n",
    "    for i in range (n,0,-1) : \n",
    "        # Print spaces \n",
    "        for j in range(0,n-i+1) : \n",
    "            print(\" \",end=\"\") \n",
    "              \n",
    "        # Print # \n",
    "        k = 0\n",
    "        while (k != (2 * i - 1)) : \n",
    "            if (k == 0 or k == 2 * i - 2) : \n",
    "                print(\"*\",end=\"\") \n",
    "            else : \n",
    "                print(\" \",end=\"\") \n",
    "            k = k + 1\n",
    "          \n",
    "        print(\"\"), \n",
    "              \n",
    "# Driver code \n",
    "n = 6\n",
    "printPattern(n) "
   ]
  }
 ],
 "metadata": {
  "kernelspec": {
   "display_name": "Python 3",
   "language": "python",
   "name": "python3"
  },
  "language_info": {
   "codemirror_mode": {
    "name": "ipython",
    "version": 3
   },
   "file_extension": ".py",
   "mimetype": "text/x-python",
   "name": "python",
   "nbconvert_exporter": "python",
   "pygments_lexer": "ipython3",
   "version": "3.7.1"
  }
 },
 "nbformat": 4,
 "nbformat_minor": 2
}
